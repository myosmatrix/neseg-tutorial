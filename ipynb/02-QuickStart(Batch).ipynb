{
 "cells": [
  {
   "cell_type": "code",
   "execution_count": 1,
   "metadata": {},
   "outputs": [
    {
     "name": "stdout",
     "output_type": "stream",
     "text": [
      "N:\\00-work\\ws_ne_seg\\negseg-tutorial\\ipynb\n"
     ]
    }
   ],
   "source": [
    "# 确定当前路径, 方便指定词典路径\n",
    "import os\n",
    "!cd"
   ]
  },
  {
   "cell_type": "code",
   "execution_count": 2,
   "metadata": {},
   "outputs": [],
   "source": [
    "import os\n",
    "from neseg import seg\n",
    "\n",
    "DICT_DIR='..\\workspace\\output-dict'\n",
    "dic_country = os.path.join(DICT_DIR,'dict-country.csv')# 国名词典\n",
    "dic_province = os.path.join(DICT_DIR,'dict-province.csv')# 行政一级词典\n",
    "dic_city = os.path.join(DICT_DIR,'dict-city.csv') # 行政二级词典\n",
    "dic_county = os.path.join(DICT_DIR,'dict-county.csv')# 行政三级词典\n",
    "dic_suffix = os.path.join(DICT_DIR,'dict-suffix.csv')# 核心词后面的部分"
   ]
  },
  {
   "cell_type": "code",
   "execution_count": 11,
   "metadata": {},
   "outputs": [
    {
     "name": "stdout",
     "output_type": "stream",
     "text": [
      ",,,,鞍山科通,电力,装备,有限公司  =>  鞍山科通电力装备有限公司\n",
      ",,,,温州新侨,公司  =>  温州新侨公司\n",
      ",,,,3M中国,有限公司  =>  3M中国有限公司\n",
      ",,,,ABB,开关,有限公司  =>  ABB开关有限公司\n",
      ",,,,ABB,有限公司  =>  ABB有限公司\n",
      ",,,,ABB,有限公司  =>  ABB有限公司\n",
      ",,,,ABB,有限公司  =>  ABB有限公司\n",
      ",,,,ABB,有限公司  =>  ABB有限公司\n",
      ",,,,ABB德国,公司  =>  ABB德国公司\n",
      ",,,,ABB福建省森达,电气,有限公司  =>  ABB福建省森达电气有限公司\n",
      ",,,,ABB,配电变压器,有限公司  =>  ABB配电变压器有限公司\n",
      ",,,,ABB,配电变压器,有限公司  =>  ABB配电变压器有限公司\n",
      ",,,,ABB,有限公司  =>  ABB有限公司\n",
      ",,,,ABB,组件,公司  =>  ABB组件公司\n",
      ",,,,AREVA,集团  =>  AREVA集团\n",
      ",,,,TEC,公司  =>  TEC公司\n",
      ",,,,EDMI,公司  =>  EDMI公司\n",
      ",,,,F&G,电气,有限公司  =>  F&G电气有限公司\n",
      ",,,,JDSU,公司  =>  JDSU公司\n",
      ",,,,KL珠海市,电器,有限公司  =>  KL珠海市电器有限公司\n",
      ",,,,Landis,有限公司  =>  Landis有限公司\n",
      ",,,,LG,电缆,有限公司  =>  LG电缆有限公司\n",
      ",,,,LG,电子电器,有限公司  =>  LG电子电器有限公司\n",
      ",,,,LKE,中压配电设备,公司  =>  LKE中压配电设备公司\n",
      ",,,,MGE上海东自,电气,有限公司  =>  MGE上海东自电气有限公司\n",
      ",,,,NARI国家,电力,公司  =>  NARI国家电力公司\n",
      ",,,,NGK唐山,电瓷,有限公司  =>  NGK唐山电瓷有限公司\n",
      ",,,,PG,电控,公司  =>  PG电控公司\n",
      ",,,,TCL南洋,电器,有限公司  =>  TCL南洋电器有限公司\n",
      ",,,,YJV红旗,电缆,厂  =>  YJV红旗电缆厂\n",
      ",,,,阿城,继电器,厂  =>  阿城继电器厂\n",
      ",,,,阿城,继电器,股份有限公司  =>  阿城继电器股份有限公司\n",
      ",,,,阿城市,继电器,自动化设备,厂  =>  阿城市继电器自动化设备厂\n",
      ",,,,阿尔法,电气,有限公司  =>  阿尔法电气有限公司\n",
      ",,,,阿尔斯通,隔离开关,有限公司  =>  阿尔斯通隔离开关有限公司\n"
     ]
    }
   ],
   "source": [
    "import sys\n",
    "import datetime\n",
    "import pandas as pd\n",
    "\n",
    "DATA_SRC_DIR='..\\workspace\\output-data'\n",
    "DATA_OUT_DIR='..\\workspace\\output-data'\n",
    "\n",
    "inFile = os.path.join(DATA_SRC_DIR,\"设备供应商名单-demo-预处理.xlsx\")\n",
    "df = pd.DataFrame(pd.read_excel(inFile,encoding='utf-8'))\n",
    "\n",
    "df['seg']=''\n",
    "for i in range(0,df.shape[0]):\n",
    "    st = df['temp'].iloc[i]\n",
    "    seg_st = seg.segbydict(st,dic_country,dic_province,dic_city,dic_county,dic_suffix)\n",
    "    df['seg'].iloc[i] = seg_st\n",
    "    print(seg_st,\" => \",st)\n",
    "\n",
    "outFile = os.path.join(DATA_OUT_DIR,\"设备供应商名单-demo-预处理-%s.xlsx\"%(datetime.datetime.now().strftime('%Y%m%d-%H%M%S')))\n",
    "writer = pd.ExcelWriter(outFile,encoding='utf-8')\n",
    "df.to_excel(writer,'设备供应商')\n",
    "writer.save()"
   ]
  },
  {
   "cell_type": "code",
   "execution_count": null,
   "metadata": {},
   "outputs": [],
   "source": []
  }
 ],
 "metadata": {
  "kernelspec": {
   "display_name": "Python3.7(ner)",
   "language": "python",
   "name": "ner"
  },
  "language_info": {
   "codemirror_mode": {
    "name": "ipython",
    "version": 3
   },
   "file_extension": ".py",
   "mimetype": "text/x-python",
   "name": "python",
   "nbconvert_exporter": "python",
   "pygments_lexer": "ipython3",
   "version": "3.7.6"
  }
 },
 "nbformat": 4,
 "nbformat_minor": 2
}
