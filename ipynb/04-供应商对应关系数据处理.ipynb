{
 "cells": [
  {
   "cell_type": "markdown",
   "metadata": {},
   "source": [
    "供应商与生产厂家对应关系分布在多个Excel文件的多个工作表中\n",
    "* 合并工作表\n",
    "* 合并Excel文件\n",
    "* 保留原有的设备类型、设备大类别（体现在工作表名和Excel文件名上）\n",
    "* 也许还可以保留供应商和厂家的编码"
   ]
  },
  {
   "cell_type": "code",
   "execution_count": 3,
   "metadata": {},
   "outputs": [
    {
     "name": "stdout",
     "output_type": "stream",
     "text": [
      "Z:\\00-work\\ws_ne_seg\\negseg-tutorial\\ipynb\n"
     ]
    }
   ],
   "source": [
    "# 确定当前路径, 方便指定词典路径\n",
    "import os\n",
    "!cd"
   ]
  },
  {
   "cell_type": "code",
   "execution_count": 4,
   "metadata": {},
   "outputs": [],
   "source": [
    "import xlrd\n",
    "import pandas as pd\n",
    "from pandas import DataFrame\n",
    "\n",
    "DATA_DIR = '../workspace/input-data'"
   ]
  },
  {
   "cell_type": "code",
   "execution_count": 5,
   "metadata": {},
   "outputs": [
    {
     "data": {
      "text/plain": [
       "['换流变压器',\n",
       " '平波电抗器（干式）',\n",
       " '平波电抗器（油浸式）',\n",
       " '换流阀',\n",
       " '震荡回路直流断路器',\n",
       " '旁通回路直流断路器',\n",
       " '直流隔离开关',\n",
       " '高压直流穿墙套管',\n",
       " '直流电流互感器（光电式）',\n",
       " '直流电流互感器（零磁通） ',\n",
       " '直流分压器',\n",
       " '直流避雷器',\n",
       " '滤波器组电容器']"
      ]
     },
     "execution_count": 5,
     "metadata": {},
     "output_type": "execute_result"
    }
   ],
   "source": [
    "excel_name = u'%s/换流类设备_生产厂家与供应商对应关系表0910（13个）.xlsx' % DATA_DIR\n",
    "wb = xlrd.open_workbook(excel_name)\n",
    "sheets = wb.sheet_names()\n",
    "sheets"
   ]
  },
  {
   "cell_type": "code",
   "execution_count": 6,
   "metadata": {},
   "outputs": [
    {
     "data": {
      "text/html": [
       "<div>\n",
       "<style scoped>\n",
       "    .dataframe tbody tr th:only-of-type {\n",
       "        vertical-align: middle;\n",
       "    }\n",
       "\n",
       "    .dataframe tbody tr th {\n",
       "        vertical-align: top;\n",
       "    }\n",
       "\n",
       "    .dataframe thead th {\n",
       "        text-align: right;\n",
       "    }\n",
       "</style>\n",
       "<table border=\"1\" class=\"dataframe\">\n",
       "  <thead>\n",
       "    <tr style=\"text-align: right;\">\n",
       "      <th></th>\n",
       "      <th>序号</th>\n",
       "      <th>生产厂家编码</th>\n",
       "      <th>生产厂家名称</th>\n",
       "      <th>供应商编码</th>\n",
       "      <th>供应商名称</th>\n",
       "    </tr>\n",
       "  </thead>\n",
       "  <tbody>\n",
       "    <tr>\n",
       "      <td>0</td>\n",
       "      <td>1</td>\n",
       "      <td>011324</td>\n",
       "      <td>ABB</td>\n",
       "      <td>011324</td>\n",
       "      <td>ABB</td>\n",
       "    </tr>\n",
       "    <tr>\n",
       "      <td>1</td>\n",
       "      <td>2</td>\n",
       "      <td>016251</td>\n",
       "      <td>ABB有限公司（瑞典）</td>\n",
       "      <td>011324</td>\n",
       "      <td>ABB</td>\n",
       "    </tr>\n",
       "    <tr>\n",
       "      <td>2</td>\n",
       "      <td>3</td>\n",
       "      <td>011342</td>\n",
       "      <td>SIEMENS</td>\n",
       "      <td>011342</td>\n",
       "      <td>SIEMENS</td>\n",
       "    </tr>\n",
       "    <tr>\n",
       "      <td>3</td>\n",
       "      <td>4</td>\n",
       "      <td>000500</td>\n",
       "      <td>保定天威保变电气股份有限公司</td>\n",
       "      <td>1000014526</td>\n",
       "      <td>保定天威保变电气股份有限公司</td>\n",
       "    </tr>\n",
       "    <tr>\n",
       "      <td>4</td>\n",
       "      <td>5</td>\n",
       "      <td>029070</td>\n",
       "      <td>保定天威变压器有限公司</td>\n",
       "      <td>1000014526</td>\n",
       "      <td>保定天威保变电气股份有限公司</td>\n",
       "    </tr>\n",
       "    <tr>\n",
       "      <td>...</td>\n",
       "      <td>...</td>\n",
       "      <td>...</td>\n",
       "      <td>...</td>\n",
       "      <td>...</td>\n",
       "      <td>...</td>\n",
       "    </tr>\n",
       "    <tr>\n",
       "      <td>6</td>\n",
       "      <td>7</td>\n",
       "      <td>009359</td>\n",
       "      <td>西安西电电力电容器有限责任公司</td>\n",
       "      <td>1000014992</td>\n",
       "      <td>西安西电电力电容器有限责任公司</td>\n",
       "    </tr>\n",
       "    <tr>\n",
       "      <td>7</td>\n",
       "      <td>8</td>\n",
       "      <td>011324</td>\n",
       "      <td>ABB</td>\n",
       "      <td>011324</td>\n",
       "      <td>ABB</td>\n",
       "    </tr>\n",
       "    <tr>\n",
       "      <td>8</td>\n",
       "      <td>9</td>\n",
       "      <td>009558</td>\n",
       "      <td>新东北电气（锦州）电力电容器有限责任公司</td>\n",
       "      <td>1000102413</td>\n",
       "      <td>新东北电气集团电力电容器有限公司</td>\n",
       "    </tr>\n",
       "    <tr>\n",
       "      <td>9</td>\n",
       "      <td>10</td>\n",
       "      <td>008792</td>\n",
       "      <td>无锡赛晶电力电容器有限公司</td>\n",
       "      <td>1000001102</td>\n",
       "      <td>无锡赛晶电力电容器有限公司</td>\n",
       "    </tr>\n",
       "    <tr>\n",
       "      <td>10</td>\n",
       "      <td>11</td>\n",
       "      <td>002747</td>\n",
       "      <td>合容电气股份有限公司</td>\n",
       "      <td>1000009098</td>\n",
       "      <td>合容电气股份有限公司</td>\n",
       "    </tr>\n",
       "  </tbody>\n",
       "</table>\n",
       "<p>172 rows × 5 columns</p>\n",
       "</div>"
      ],
      "text/plain": [
       "    序号  生产厂家编码                生产厂家名称       供应商编码             供应商名称\n",
       "0    1  011324                   ABB      011324               ABB\n",
       "1    2  016251           ABB有限公司（瑞典）      011324               ABB\n",
       "2    3  011342               SIEMENS      011342           SIEMENS\n",
       "3    4  000500        保定天威保变电气股份有限公司  1000014526    保定天威保变电气股份有限公司\n",
       "4    5  029070           保定天威变压器有限公司  1000014526    保定天威保变电气股份有限公司\n",
       "..  ..     ...                   ...         ...               ...\n",
       "6    7  009359       西安西电电力电容器有限责任公司  1000014992   西安西电电力电容器有限责任公司\n",
       "7    8  011324                   ABB      011324               ABB\n",
       "8    9  009558  新东北电气（锦州）电力电容器有限责任公司  1000102413  新东北电气集团电力电容器有限公司\n",
       "9   10  008792         无锡赛晶电力电容器有限公司  1000001102     无锡赛晶电力电容器有限公司\n",
       "10  11  002747            合容电气股份有限公司  1000009098        合容电气股份有限公司\n",
       "\n",
       "[172 rows x 5 columns]"
      ]
     },
     "execution_count": 6,
     "metadata": {},
     "output_type": "execute_result"
    }
   ],
   "source": [
    "df = DataFrame()\n",
    "for i in range(len(sheets)):\n",
    "    df_temp = pd.read_excel(excel_name,sheet_name=i,skiprows=1,index=False,dtype={'生产厂家编码':str,'供应商编码':str},encoding='utf8')\n",
    "    df = df.append(df_temp)\n",
    "df"
   ]
  },
  {
   "cell_type": "code",
   "execution_count": 7,
   "metadata": {},
   "outputs": [],
   "source": [
    "outFile = '%s/供应商对应关系-换流类设备.xlsx' % DATA_DIR\n",
    "df.to_excel(outFile,index=False,columns=['生产厂家编码','生产厂家名称','供应商编码','供应商名称'],encoding='utf8')"
   ]
  },
  {
   "cell_type": "code",
   "execution_count": null,
   "metadata": {},
   "outputs": [],
   "source": []
  }
 ],
 "metadata": {
  "kernelspec": {
   "display_name": "Python 3",
   "language": "python",
   "name": "python3"
  },
  "language_info": {
   "codemirror_mode": {
    "name": "ipython",
    "version": 3
   },
   "file_extension": ".py",
   "mimetype": "text/x-python",
   "name": "python",
   "nbconvert_exporter": "python",
   "pygments_lexer": "ipython3",
   "version": "3.7.4"
  }
 },
 "nbformat": 4,
 "nbformat_minor": 2
}
