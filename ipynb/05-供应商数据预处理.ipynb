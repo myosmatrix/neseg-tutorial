{
 "cells": [
  {
   "cell_type": "code",
   "execution_count": null,
   "metadata": {},
   "outputs": [],
   "source": [
    "# 确定当前路径, 方便指定词典路径\n",
    "import os\n",
    "!cd"
   ]
  },
  {
   "cell_type": "code",
   "execution_count": null,
   "metadata": {
    "scrolled": false
   },
   "outputs": [],
   "source": [
    "import sys\n",
    "import datetime\n",
    "import pandas as pd\n",
    "\n",
    "def callbackMsg(log):\n",
    "    print(log)\n",
    "    \n",
    "def prepareData(input_table, cbFunc):\n",
    "    df = pd.DataFrame(input_table, columns=['生产厂家名称'])\n",
    "    df.drop_duplicates(inplace=True)\n",
    "\n",
    "    df['shougong'] = df['生产厂家名称']\n",
    "    \n",
    "    ### 替换（集团）为集团\n",
    "    df.replace({'shougong':'\\(集团\\)|（集团）'},'集团',regex=True, inplace=True)\n",
    "    \n",
    "    ### 去所有(*)  \n",
    "    df.replace({'shougong':'\\([\\u4e00-\\u9fa5\\w&]{1,}\\)'},'',regex=True, inplace=True)\n",
    "    \n",
    "    ###shougong提取总部   \n",
    "    df_temp = df['shougong'].str.extract(r'(?P<org0>[\\u4e00-\\u9fa5\\w\\(\\)&]{2,}(?:集团|公司|研究所|研究院|电业局|总公司|总厂|厂|所|大学){1,})(?P<org1>[\\u4e00-\\u9fa5\\w\\(\\)&]*(?:集团|分公司|公司|研究所|研究院|总厂|厂){0,})(?P<org2>[\\u4e00-\\u9fa5\\w\\(\\)&]*(?:集团|分公司|公司|分厂|厂|研究所|研究院|中心){1,})[\\u4e00-\\u9fa5\\w\\(\\)&]*', expand=True)\n",
    "\n",
    "    df = pd.concat([df,df_temp],axis=1)\n",
    "    df.loc[df['org0'].str.len()>0,'shougong']=df['org0']\n",
    "    df['temp'] = df['shougong'].str.extract(r'(?P<org>[\\u4e00-\\u9fa5\\w\\(\\)&]*(?:集团|公司|厂|研究所|研究院|株式会社|经销部|经营部|电业局|分院|学院|中心|大学){1,}$)',expand=False)\n",
    "    df.drop(labels=['shougong','org0','org1','org2'],axis=1, inplace=True)\n",
    "\n",
    "    output_table_1 = df[df['temp'].isnull().values == True]\n",
    "    df = df[df['temp'].isnull().values != True]\n",
    "    log = sys._getframe().f_code.co_name + \"=>列名：[\" + ','.join(df.columns.values.tolist()) + \"], 记录数：%5d\" % (df.shape[0])\n",
    "    cbFunc(log)\n",
    "\n",
    "    dflist = [output_table_1, df]  \n",
    "    return dflist"
   ]
  },
  {
   "cell_type": "code",
   "execution_count": null,
   "metadata": {},
   "outputs": [],
   "source": [
    "DATA_SRC_DIR='..\\workspace\\input-data'\n",
    "DATA_OUT_DIR='..\\workspace\\output-data'\n",
    "\n",
    "inFile = os.path.join(DATA_SRC_DIR,\"设备供应商名单-demo.xlsx\")\n",
    "\n",
    "df = pd.DataFrame(pd.read_excel(inFile,encoding='utf-8'))\n",
    "\n",
    "dflist = prepareData(df,callbackMsg)\n",
    "\n",
    "df = dflist[1]\n",
    "print(df)\n",
    "\n",
    "outFile = os.path.join(DATA_OUT_DIR,\"设备供应商名单-demo-预处理.xlsx\")\n",
    "writer = pd.ExcelWriter(outFile,encoding='utf-8')\n",
    "df.to_excel(writer,'设备供应商')\n",
    "writer.save()"
   ]
  }
 ],
 "metadata": {
  "kernelspec": {
   "display_name": "Python3.7(ner)",
   "language": "python",
   "name": "ner"
  },
  "language_info": {
   "codemirror_mode": {
    "name": "ipython",
    "version": 3
   },
   "file_extension": ".py",
   "mimetype": "text/x-python",
   "name": "python",
   "nbconvert_exporter": "python",
   "pygments_lexer": "ipython3",
   "version": "3.7.6"
  }
 },
 "nbformat": 4,
 "nbformat_minor": 2
}
