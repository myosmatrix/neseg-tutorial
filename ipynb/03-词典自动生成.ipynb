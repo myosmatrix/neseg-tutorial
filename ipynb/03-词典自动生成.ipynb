{
 "cells": [
  {
   "cell_type": "code",
   "execution_count": 7,
   "metadata": {},
   "outputs": [
    {
     "name": "stdout",
     "output_type": "stream",
     "text": [
      "N:\\00-work\\ws_ne_seg\\negseg-tutorial\\ipynb\n"
     ]
    }
   ],
   "source": [
    "# 确定当前路径, 方便指定词典路径\n",
    "import os\n",
    "!cd"
   ]
  },
  {
   "cell_type": "code",
   "execution_count": 8,
   "metadata": {},
   "outputs": [],
   "source": [
    "import pandas as pd\n",
    "\n",
    "DICT_DIR='..\\workspace\\output-dict'\n",
    "DICT_SRC_DIR='..\\workspace\\input-dict'\n",
    "\n",
    "# 自定义: 国名前缀,企业名称后缀,部分地名自定义\n",
    "excel_dict = '%s\\设备供应商-词典.xlsx' % DICT_SRC_DIR\n",
    "\n",
    "# 行政区划标准库\n",
    "excel_name_dmk = u'%s\\\\2017年最新行政区划数据库.xls' % DICT_SRC_DIR"
   ]
  },
  {
   "cell_type": "markdown",
   "metadata": {},
   "source": [
    "## 国名前缀"
   ]
  },
  {
   "cell_type": "code",
   "execution_count": 9,
   "metadata": {},
   "outputs": [],
   "source": [
    "# 国名前缀\n",
    "csv_name_country = '%s\\dict-country.csv' % DICT_DIR\n",
    "\n",
    "df = pd.read_excel(excel_dict,sheet_name='国名前缀',skiprows=0,index=False,encoding='utf8')\n",
    "df.drop_duplicates(inplace=True)\n",
    "df.dropna(axis=0,inplace=True)\n",
    "df.eval('count = Name.str.len()',inplace=True)\n",
    "df.sort_values(by=['count'], inplace = True, ascending=False)\n",
    "df.to_csv(csv_name_country,index=False,header=False,sep=',',encoding='utf-8')"
   ]
  },
  {
   "cell_type": "markdown",
   "metadata": {},
   "source": [
    "## 品类行业+名称后缀"
   ]
  },
  {
   "cell_type": "code",
   "execution_count": 10,
   "metadata": {},
   "outputs": [],
   "source": [
    "csv_name_suffix = '%s\\dict-suffix.csv' % DICT_DIR\n",
    "\n",
    "df1 = pd.read_excel(excel_dict,sheet_name='品类行业',skiprows=0,usecols=[0],index=False,encoding='utf8')\n",
    "df2 = pd.read_excel(excel_dict,sheet_name='名称后缀',skiprows=0,usecols=[0],index=False,encoding='utf8')\n",
    "df = pd.concat([df1,df2],axis=0)\n",
    "\n",
    "df.drop_duplicates(inplace=True)\n",
    "df.dropna(axis=0,inplace=True)\n",
    "df.eval('count = Name.str.len()',inplace=True)\n",
    "df.sort_values(by=['count'], inplace = True, ascending=False)\n",
    "df.to_csv(csv_name_suffix,index=False,encoding='utf-8')"
   ]
  },
  {
   "cell_type": "markdown",
   "metadata": {},
   "source": [
    "## 全部行政机构"
   ]
  },
  {
   "cell_type": "code",
   "execution_count": 11,
   "metadata": {},
   "outputs": [],
   "source": [
    "\n",
    "\n",
    "df = pd.read_excel(excel_name_dmk,sheet_name='旗舰版',skiprows=0,usecols=[3,4,5,7],encoding='utf8')\n",
    "\n",
    "def getDict(dfDMK, levelType, excelDict, sheetName):\n",
    "    df_xz = dfDMK[dfDMK['LevelType'] == levelType]\n",
    "    df_xz_ts = pd.read_excel(excelDict,sheet_name=sheetName,skiprows=0,usecols=[0,1],encoding='utf8')\n",
    "\n",
    "    df_xz = pd.concat([df_xz,df_xz_ts],axis=0,sort=False)\n",
    "\n",
    "    namelist = df_xz['ShortName'].tolist()+df_xz['Name'].tolist()+df_xz['NameAlias'].tolist()\n",
    "    df_xz = pd.DataFrame({'Name':namelist})\n",
    "    df_xz.drop_duplicates(inplace=True)\n",
    "    df_xz.dropna(axis=0,inplace=True)\n",
    "    df_xz.eval('Len = Name.str.len()',inplace=True)\n",
    "    df_xz.sort_values(by=['Len'],ascending=False,inplace=True)\n",
    "\n",
    "    return df_xz"
   ]
  },
  {
   "cell_type": "markdown",
   "metadata": {},
   "source": [
    "## 行政一级+二级+三级生成词典"
   ]
  },
  {
   "cell_type": "code",
   "execution_count": 12,
   "metadata": {},
   "outputs": [],
   "source": [
    "csv_name_xz1 = '%s\\dict-province.csv' % DICT_DIR\n",
    "csv_name_xz2 = '%s\\dict-city.csv' % DICT_DIR\n",
    "csv_name_xz3 = '%s\\dict-county.csv' % DICT_DIR\n",
    "\n",
    "df_xz1 = getDict(df, 1, excel_dict, sheetName='行政一级特殊')\n",
    "df_xz1.to_csv(csv_name_xz1,index=False,header=False,sep=',',encoding='utf-8')\n",
    "\n",
    "df_xz2 = getDict(df, 2, excel_dict, sheetName='行政二级特殊')\n",
    "df_xz2.to_csv(csv_name_xz2,index=False,header=False,sep=',',encoding='utf-8')\n",
    "\n",
    "df_xz3 = getDict(df, 3, excel_dict, sheetName='行政三级特殊')\n",
    "df_xz3.to_csv(csv_name_xz3,index=False,header=False,sep=',',encoding='utf-8')"
   ]
  },
  {
   "cell_type": "code",
   "execution_count": null,
   "metadata": {},
   "outputs": [],
   "source": []
  }
 ],
 "metadata": {
  "kernelspec": {
   "display_name": "Python3.7(ner)",
   "language": "python",
   "name": "ner"
  },
  "language_info": {
   "codemirror_mode": {
    "name": "ipython",
    "version": 3
   },
   "file_extension": ".py",
   "mimetype": "text/x-python",
   "name": "python",
   "nbconvert_exporter": "python",
   "pygments_lexer": "ipython3",
   "version": "3.7.6"
  }
 },
 "nbformat": 4,
 "nbformat_minor": 2
}
