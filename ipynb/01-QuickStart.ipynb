{
 "cells": [
  {
   "cell_type": "code",
   "execution_count": 5,
   "metadata": {},
   "outputs": [
    {
     "name": "stdout",
     "output_type": "stream",
     "text": [
      "N:\\00-work\\ws_ne_seg\\negseg-tutorial\\ipynb\n"
     ]
    }
   ],
   "source": [
    "# 确定当前路径, 方便指定词典路径\n",
    "import os\n",
    "!cd"
   ]
  },
  {
   "cell_type": "code",
   "execution_count": 6,
   "metadata": {},
   "outputs": [],
   "source": [
    "import os\n",
    "from neseg import seg"
   ]
  },
  {
   "cell_type": "code",
   "execution_count": 7,
   "metadata": {},
   "outputs": [],
   "source": [
    "DICT_DIR='..\\workspace\\output-dict'\n",
    "dic_country = os.path.join(DICT_DIR,'dict-country.csv')# 国名词典\n",
    "dic_province = os.path.join(DICT_DIR,'dict-province.csv')# 行政一级词典\n",
    "dic_city = os.path.join(DICT_DIR,'dict-city.csv') # 行政二级词典\n",
    "dic_county = os.path.join(DICT_DIR,'dict-county.csv')# 行政三级词典\n",
    "dic_suffix = os.path.join(DICT_DIR,'dict-suffix.csv')# 核心词后面的部分"
   ]
  },
  {
   "cell_type": "code",
   "execution_count": 8,
   "metadata": {},
   "outputs": [
    {
     "name": "stdout",
     "output_type": "stream",
     "text": [
      "中国,北京,,海淀区,飞图时代,电力,科技,有限公司\n"
     ]
    }
   ],
   "source": [
    "st = '中国北京海淀区飞图时代电力科技有限公司'\n",
    "print(seg.segbydict(st,dic_country,dic_province,dic_city,dic_county,dic_suffix))"
   ]
  },
  {
   "cell_type": "code",
   "execution_count": 10,
   "metadata": {},
   "outputs": [
    {
     "name": "stdout",
     "output_type": "stream",
     "text": [
      ",,广州市,天河区,林和西路161号中泰国际广场B座,\n"
     ]
    }
   ],
   "source": [
    "st = '广州市天河区林和西路161号中泰国际广场B座'\n",
    "print(seg.segbydict(st,dic_country,dic_province,dic_city,dic_county,dic_suffix))"
   ]
  },
  {
   "cell_type": "code",
   "execution_count": null,
   "metadata": {},
   "outputs": [],
   "source": []
  }
 ],
 "metadata": {
  "kernelspec": {
   "display_name": "Python3.7(ner)",
   "language": "python",
   "name": "ner"
  },
  "language_info": {
   "codemirror_mode": {
    "name": "ipython",
    "version": 3
   },
   "file_extension": ".py",
   "mimetype": "text/x-python",
   "name": "python",
   "nbconvert_exporter": "python",
   "pygments_lexer": "ipython3",
   "version": "3.7.6"
  }
 },
 "nbformat": 4,
 "nbformat_minor": 2
}
